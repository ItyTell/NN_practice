{
 "cells": [
  {
   "cell_type": "code",
   "execution_count": 31,
   "metadata": {},
   "outputs": [],
   "source": [
    "import torch\n",
    "import torch.nn as nn\n",
    "import torch.optim as optim\n",
    "import torchvision\n",
    "import torchvision.transforms as transforms\n",
    "import matplotlib.pyplot as plt\n",
    "from sklearn.metrics import accuracy_score, f1_score\n",
    "from torch.utils.data import random_split, DataLoader\n",
    "import time\n",
    "from tqdm import tqdm\n",
    "import seaborn as sns\n",
    "from initializations import initialize_model"
   ]
  },
  {
   "cell_type": "code",
   "execution_count": 2,
   "metadata": {},
   "outputs": [],
   "source": [
    "device = torch.device(\"cuda\" if torch.cuda.is_available() else \"cpu\")\n",
    "transform = transforms.Compose([\n",
    "    transforms.ToTensor(),\n",
    "    transforms.Normalize((0.5, 0.5, 0.5), (0.5, 0.5, 0.5))\n",
    "])"
   ]
  },
  {
   "cell_type": "code",
   "execution_count": 3,
   "metadata": {},
   "outputs": [
    {
     "name": "stdout",
     "output_type": "stream",
     "text": [
      "Files already downloaded and verified\n",
      "Files already downloaded and verified\n"
     ]
    }
   ],
   "source": [
    "train_dataset = torchvision.datasets.CIFAR10(root='./data', train=True, download=True, transform=transform)\n",
    "val_dataset = torchvision.datasets.CIFAR10(root='./data', train=False, download=True, transform=transform)"
   ]
  },
  {
   "cell_type": "code",
   "execution_count": 4,
   "metadata": {},
   "outputs": [],
   "source": [
    "train_loader = DataLoader(train_dataset, batch_size=64, shuffle=True)\n",
    "validation_loader = DataLoader(val_dataset, batch_size=64, shuffle=False)"
   ]
  },
  {
   "cell_type": "code",
   "execution_count": 24,
   "metadata": {},
   "outputs": [],
   "source": [
    "# Define a CNN model with configurable activation functions for each layer\n",
    "class CNNModel(nn.Module):\n",
    "    def __init__(self, activations=None):\n",
    "        super(CNNModel, self).__init__()\n",
    "\n",
    "        if activations is None:\n",
    "            activations = nn.ReLU()\n",
    "\n",
    "        self.layer1 = nn.Sequential(\n",
    "            nn.Conv2d(3, 32, kernel_size=3, padding=1, stride=1),\n",
    "            activations,\n",
    "            nn.MaxPool2d(2)\n",
    "        )\n",
    "\n",
    "        self.layer2 = nn.Sequential(\n",
    "            nn.Conv2d(32, 64, kernel_size=3, padding=1, stride=1),\n",
    "            activations,\n",
    "            nn.MaxPool2d(2)\n",
    "        )\n",
    "\n",
    "        self.layer3 = nn.Sequential(\n",
    "            nn.Conv2d(64, 128, kernel_size=1, padding=1),\n",
    "            activations,\n",
    "            nn.MaxPool2d(2)\n",
    "        )\n",
    "\n",
    "        self.dense1 = nn.Sequential(\n",
    "            nn.Linear(128, 128),\n",
    "            activations\n",
    "        )\n",
    "        self.dense2 = nn.Sequential(\n",
    "            nn.Linear(128, 10),\n",
    "            nn.Softmax(dim=1)\n",
    "        )\n",
    "\n",
    "    def forward(self, x):\n",
    "        out = self.layer1(x)\n",
    "        out = self.layer2(out)\n",
    "        out = self.layer3(out)\n",
    "        out = out.view(out.size(0), -1)\n",
    "        out = self.dense1(out)\n",
    "        out = self.dense2(out)\n",
    "        return out"
   ]
  },
  {
   "cell_type": "code",
   "execution_count": 27,
   "metadata": {},
   "outputs": [],
   "source": [
    "def train_val_model(model, num_epochs=20):\n",
    "    train={\n",
    "        'loss': [],\n",
    "        'time': []\n",
    "    }\n",
    "    validation={\n",
    "        'accuracy': []\n",
    "    }\n",
    "    for epoch in range(num_epochs):\n",
    "        model.train()\n",
    "        start_time = time.time()\n",
    "        progress_bar = tqdm(train_loader, desc=f\"Epoch {epoch + 1}/{num_epochs}\", leave=False)\n",
    "        epoch_loss = 0\n",
    "        for images, labels in progress_bar:\n",
    "            images, labels = images.to(device), labels.to(device)\n",
    "            outputs = model(images)\n",
    "            loss = criterion(outputs, labels)\n",
    "            optimizer.zero_grad()\n",
    "            loss.backward()\n",
    "            optimizer.step()\n",
    "\n",
    "            epoch_loss += loss.item()\n",
    "            progress_bar.set_postfix({'Loss': loss.item()})\n",
    "\n",
    "            _, predicted = torch.max(outputs.data, 1)\n",
    "\n",
    "        avg_loss = epoch_loss / len(train_loader)\n",
    "        print(f'Epoch [{epoch + 1}/{num_epochs}], Avg Loss: {avg_loss:.4f}, Time: {time.time() - start_time:.2f}s')\n",
    "        \n",
    "        train['loss'].append(avg_loss)\n",
    "        train['time'].append(time.time() - start_time)\n",
    "        model.eval()\n",
    "        predictions_val = []\n",
    "        labels_val = []\n",
    "        with torch.no_grad():\n",
    "            for images, labels in validation_loader:\n",
    "                images, labels = images.to(device), labels.to(device)\n",
    "                outputs = model(images)\n",
    "                loss = criterion(outputs, labels)\n",
    "                _, predicted = torch.max(outputs.data, 1)\n",
    "                predictions_val.extend(predicted.cpu().numpy())\n",
    "                labels_val.extend(labels.cpu().numpy())\n",
    "\n",
    "        validation['accuracy'].append(accuracy_score(labels_val, predictions_val))\n",
    "\n",
    "    return train, validation"
   ]
  },
  {
   "cell_type": "code",
   "execution_count": null,
   "metadata": {},
   "outputs": [],
   "source": [
    "model = CNNModel().to(device)\n",
    "optimizer = optim.Adam(model.parameters(), lr=0.001)\n",
    "criterion = nn.CrossEntropyLoss()"
   ]
  },
  {
   "cell_type": "code",
   "execution_count": 29,
   "metadata": {},
   "outputs": [],
   "source": [
    "activations = [nn.ReLU(), nn.LeakyReLU(), nn.Sigmoid(), nn.Tanh(), nn.SELU()]\n",
    "initialisations = ['normal', 'xavier_normal', 'he_normal', 'lecun_normal', 'zeros']"
   ]
  },
  {
   "cell_type": "code",
   "execution_count": null,
   "metadata": {},
   "outputs": [],
   "source": [
    "results = {}\n",
    "for i in range(5):\n",
    "    model = CNNModel(activations[i]).to(device)\n",
    "    for j in range(5):\n",
    "        initialize_model(model, initialisations[j])\n",
    "        train, validation = train_val_model(model, num_epochs=1)\n",
    "        results[initialisations[j] + '_' + activations[i].__class__.__name__] = {\n",
    "            'train': train,\n",
    "            'validation': validation\n",
    "        }"
   ]
  },
  {
   "cell_type": "code",
   "execution_count": null,
   "metadata": {},
   "outputs": [],
   "source": [
    "# no stability check here - will just look at the visualizations\n",
    "\n",
    "convergence_speed = {}\n",
    "finall_accuracy = {}\n",
    "\n",
    "for key, value in results.items():\n",
    "    max_accuracy = max(value['validation']['accuracy'])\n",
    "    # iteration to surpass 90% of the highest accuracy\n",
    "    index = next(i for i, v in enumerate(value['validation']['accuracy']) if v > 0.9 * max_accuracy)\n",
    "    convergence_speed[key] = sum(value['train']['time'][:index])\n",
    "\n",
    "    finall_accuracy[key] = max_accuracy"
   ]
  },
  {
   "cell_type": "code",
   "execution_count": null,
   "metadata": {},
   "outputs": [],
   "source": [
    "\"\"\"Plots for Each Combination:\n",
    "Training Loss vs. Epochs.\n",
    "Validation Accuracy vs. Epochs.\n",
    "\"\"\"\n",
    "\n",
    "for key, value in results.items():\n",
    "    fig, axs = plt.subplots(2)\n",
    "    fig.suptitle(key)\n",
    "    axs[0].plot(value['train']['loss'])\n",
    "    axs[0].set_title('Training Loss')\n",
    "    axs[1].plot(value['validation']['accuracy'])\n",
    "    axs[1].set_title('Validation Accuracy')\n",
    "    plt.savefig(f'plots/{key}.png')\n",
    "    plt.show()"
   ]
  },
  {
   "cell_type": "code",
   "execution_count": null,
   "metadata": {},
   "outputs": [],
   "source": [
    "\"\"\"Heatmaps:\n",
    "Accuracy for each combination of initialization and activation function.\n",
    "Training time for each combination.\n",
    "\"\"\"\n",
    "\n",
    "accuracy = []\n",
    "time = []\n",
    "for i in range(5):\n",
    "    accuracy.append([finall_accuracy[initialisations[j] + '_' + activations[i].__class__.__name__] for j in range(5)])\n",
    "    time.append([convergence_speed[initialisations[j] + '_' + activations[i].__class__.__name__] for j in range(5)])\n",
    "\n",
    "fig, axs = plt.subplots(2)\n",
    "fig.suptitle('Accuracy')\n",
    "\n",
    "sns.heatmap(accuracy, annot=True, xticklabels=initialisations, yticklabels=[activation.__class__.__name__ for activation in activations], ax=axs[0])\n",
    "sns.heatmap(time, annot=True, xticklabels=initialisations, yticklabels=[activation.__class__.__name__ for activation in activations], ax=axs[1])\n",
    "\n",
    "plt.savefig('plots/heatmap.png')\n",
    "plt.show()"
   ]
  }
 ],
 "metadata": {
  "kernelspec": {
   "display_name": "base",
   "language": "python",
   "name": "python3"
  },
  "language_info": {
   "codemirror_mode": {
    "name": "ipython",
    "version": 3
   },
   "file_extension": ".py",
   "mimetype": "text/x-python",
   "name": "python",
   "nbconvert_exporter": "python",
   "pygments_lexer": "ipython3",
   "version": "3.12.2"
  }
 },
 "nbformat": 4,
 "nbformat_minor": 2
}
