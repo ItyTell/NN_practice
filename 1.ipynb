{
 "cells": [
  {
   "cell_type": "code",
   "execution_count": 1,
   "metadata": {
    "tags": []
   },
   "outputs": [],
   "source": [
    "import torch\n",
    "import torch.nn as nn\n",
    "import torch.optim as optim\n",
    "import torchvision\n",
    "import torchvision.transforms as transforms\n",
    "import matplotlib.pyplot as plt\n",
    "import numpy as np\n",
    "from sklearn.metrics import precision_recall_fscore_support, confusion_matrix"
   ]
  },
  {
   "cell_type": "code",
   "execution_count": 2,
   "metadata": {
    "tags": []
   },
   "outputs": [],
   "source": [
    "transform = transforms.Compose([\n",
    "    transforms.ToTensor(),\n",
    "    transforms.Normalize((0.5,), (0.5,))\n",
    "])"
   ]
  },
  {
   "cell_type": "code",
   "execution_count": 3,
   "metadata": {
    "tags": []
   },
   "outputs": [],
   "source": [
    "BATCH_SIZE = 64\n",
    "device = torch.device('cuda' if torch.cuda.is_available() else 'cpu')"
   ]
  },
  {
   "cell_type": "code",
   "execution_count": 4,
   "metadata": {
    "tags": []
   },
   "outputs": [],
   "source": [
    "trainset = torchvision.datasets.CIFAR10(root='./data', train=True, download=True, transform=transform)\n",
    "trainloader = torch.utils.data.DataLoader(trainset, batch_size=BATCH_SIZE, shuffle=True)\n",
    "\n",
    "testset = torchvision.datasets.CIFAR10(root='./data', train=False, download=True, transform=transform)\n",
    "testloader = torch.utils.data.DataLoader(testset, batch_size=BATCH_SIZE, shuffle=False)"
   ]
  },
  {
   "cell_type": "code",
   "execution_count": 5,
   "metadata": {
    "tags": []
   },
   "outputs": [],
   "source": [
    "def train_model(model, trainloader, testloader, optimizer, criterion, epochs=10):\n",
    "    model.train()\n",
    "    history = {\n",
    "        'train_loss': [],\n",
    "        'train_acc': [],\n",
    "        'test_acc': [],\n",
    "        'epochs': []\n",
    "    }\n",
    "    \n",
    "    for epoch in range(epochs):\n",
    "        model.train()\n",
    "        running_loss = 0.0\n",
    "        correct_train = 0\n",
    "        total_train = 0\n",
    "        \n",
    "        for inputs, labels in trainloader:\n",
    "            inputs, labels = inputs.to(device), labels.to(device)\n",
    "            \n",
    "            optimizer.zero_grad()\n",
    "            outputs = model(inputs)\n",
    "            loss = criterion(outputs, labels)\n",
    "            loss.backward()\n",
    "            optimizer.step()\n",
    "            \n",
    "            running_loss += loss.item()\n",
    "            \n",
    "            _, predicted = outputs.max(1)\n",
    "            total_train += labels.size(0)\n",
    "            correct_train += predicted.eq(labels).sum().item()\n",
    "        \n",
    "        epoch_loss = running_loss / len(trainloader)\n",
    "        train_accuracy = 100. * correct_train / total_train\n",
    "        \n",
    "        model.eval()\n",
    "        correct_test = 0\n",
    "        total_test = 0\n",
    "        \n",
    "        with torch.no_grad():\n",
    "            for inputs, labels in testloader:\n",
    "                inputs, labels = inputs.to(device), labels.to(device)\n",
    "                outputs = model(inputs)\n",
    "                \n",
    "                _, predicted = outputs.max(1)\n",
    "                total_test += labels.size(0)\n",
    "                correct_test += predicted.eq(labels).sum().item()\n",
    "        \n",
    "        test_accuracy = 100. * correct_test / total_test\n",
    "        \n",
    "\n",
    "        history['train_loss'].append(epoch_loss)\n",
    "        history['train_acc'].append(train_accuracy)\n",
    "        history['test_acc'].append(test_accuracy)\n",
    "        history['epochs'].append(epoch + 1)\n",
    "        \n",
    "\n",
    "        print(f\"Epoch {epoch+1}\")\n",
    "        print(f\"Loss: {epoch_loss:.4f}\")\n",
    "        print(f\"Training Accuracy: {train_accuracy:.2f}%\")\n",
    "        print(f\"Test Accuracy: {test_accuracy:.2f}%\")\n",
    "        print('-' * 30)\n",
    "    \n",
    "    return history\n",
    "\n",
    "def plot_training_history(history):\n",
    "    plt.figure(figsize=(12, 4))\n",
    "    \n",
    "    plt.subplot(1, 2, 1)\n",
    "    plt.plot(history['epochs'], history['train_loss'], label='Training Loss')\n",
    "    plt.xlabel('Epochs')\n",
    "    plt.ylabel('Loss')\n",
    "    plt.title('Training Loss Over Time')\n",
    "    plt.legend()\n",
    "    \n",
    "    plt.subplot(1, 2, 2)\n",
    "    plt.plot(history['epochs'], history['train_acc'], label='Training Accuracy')\n",
    "    plt.plot(history['epochs'], history['test_acc'], label='Test Accuracy')\n",
    "    plt.xlabel('Epochs')\n",
    "    plt.ylabel('Accuracy (%)')\n",
    "    plt.title('Training and Test Accuracy Over Time')\n",
    "    plt.legend()\n",
    "    \n",
    "    plt.tight_layout()\n",
    "    plt.show()"
   ]
  },
  {
   "cell_type": "code",
   "execution_count": 6,
   "metadata": {
    "tags": []
   },
   "outputs": [],
   "source": [
    "class SimpleCNN(nn.Module):\n",
    "    def __init__(self):\n",
    "        super(SimpleCNN, self).__init__()\n",
    "        # First block\n",
    "        self.conv1 = nn.Sequential(\n",
    "            nn.Conv2d(3, 64, kernel_size=3, padding=1),\n",
    "            nn.ReLU(),\n",
    "            nn.Conv2d(64, 64, kernel_size=3, padding=1),\n",
    "            nn.ReLU(),\n",
    "            nn.MaxPool2d(2, 2)\n",
    "        )\n",
    "        \n",
    "        # Second block\n",
    "        self.conv2 = nn.Sequential(\n",
    "            nn.Conv2d(64, 128, kernel_size=3, padding=1),\n",
    "            nn.ReLU(),\n",
    "            nn.Conv2d(128, 128, kernel_size=3, padding=1),\n",
    "            nn.ReLU(),\n",
    "            nn.MaxPool2d(2, 2)\n",
    "        )\n",
    "        \n",
    "        # Third block\n",
    "        self.conv3 = nn.Sequential(\n",
    "            nn.Conv2d(128, 256, kernel_size=3, padding=1),\n",
    "            nn.ReLU(),\n",
    "            nn.MaxPool2d(2, 2)\n",
    "        )\n",
    "        \n",
    "        # Classifier\n",
    "        self.classifier = nn.Sequential(\n",
    "            nn.Linear(256 * 4 * 4, 512),\n",
    "            nn.ReLU(),\n",
    "            nn.Linear(512, 10)\n",
    "        )\n",
    "\n",
    "    def forward(self, x):\n",
    "        x = self.conv1(x)\n",
    "        x = self.conv2(x)\n",
    "        x = self.conv3(x)\n",
    "        x = x.view(-1, 256 * 4 * 4)\n",
    "        x = self.classifier(x)\n",
    "        return x"
   ]
  },
  {
   "cell_type": "code",
   "execution_count": 7,
   "metadata": {
    "tags": []
   },
   "outputs": [],
   "source": [
    "model = SimpleCNN().to(device)\n",
    "criterion = nn.CrossEntropyLoss()\n",
    "optimizer = optim.SGD(model.parameters(), lr=0.01, momentum=0.9) "
   ]
  },
  {
   "cell_type": "code",
   "execution_count": 8,
   "metadata": {
    "tags": []
   },
   "outputs": [
    {
     "name": "stdout",
     "output_type": "stream",
     "text": [
      "Epoch 1\n",
      "Loss: 1.8950\n",
      "Training Accuracy: 29.56%\n",
      "Test Accuracy: 47.91%\n",
      "------------------------------\n",
      "Epoch 2\n",
      "Loss: 1.2681\n",
      "Training Accuracy: 54.14%\n",
      "Test Accuracy: 61.38%\n",
      "------------------------------\n",
      "Epoch 3\n",
      "Loss: 0.9305\n",
      "Training Accuracy: 67.16%\n",
      "Test Accuracy: 70.21%\n",
      "------------------------------\n",
      "Epoch 4\n",
      "Loss: 0.7160\n",
      "Training Accuracy: 74.95%\n",
      "Test Accuracy: 73.16%\n",
      "------------------------------\n",
      "Epoch 5\n",
      "Loss: 0.5591\n",
      "Training Accuracy: 80.40%\n",
      "Test Accuracy: 76.33%\n",
      "------------------------------\n",
      "Epoch 6\n",
      "Loss: 0.4266\n",
      "Training Accuracy: 84.98%\n",
      "Test Accuracy: 76.92%\n",
      "------------------------------\n",
      "Epoch 7\n",
      "Loss: 0.3049\n",
      "Training Accuracy: 89.33%\n",
      "Test Accuracy: 77.83%\n",
      "------------------------------\n",
      "Epoch 8\n",
      "Loss: 0.2102\n",
      "Training Accuracy: 92.47%\n",
      "Test Accuracy: 77.43%\n",
      "------------------------------\n",
      "Epoch 9\n",
      "Loss: 0.1502\n",
      "Training Accuracy: 94.63%\n",
      "Test Accuracy: 77.23%\n",
      "------------------------------\n",
      "Epoch 10\n",
      "Loss: 0.1113\n",
      "Training Accuracy: 96.11%\n",
      "Test Accuracy: 75.20%\n",
      "------------------------------\n"
     ]
    }
   ],
   "source": [
    "history = train_model(model, trainloader, testloader, optimizer, criterion)"
   ]
  },
  {
   "cell_type": "code",
   "execution_count": 9,
   "metadata": {
    "tags": []
   },
   "outputs": [
    {
     "data": {
      "image/png": "[encoded data removed]",
      "text/plain": [
       "<Figure size 1200x400 with 2 Axes>"
      ]
     },
     "metadata": {},
     "output_type": "display_data"
    }
   ],
   "source": [
    "plot_training_history(history)"
   ]
  },
  {
   "cell_type": "code",
   "execution_count": 10,
   "metadata": {
    "tags": []
   },
   "outputs": [],
   "source": [
    "def evaluate_model(model, testloader, num_classes=10):\n",
    "    model.eval()\n",
    "    all_predictions = []\n",
    "    all_labels = []\n",
    "    \n",
    "    with torch.no_grad():\n",
    "        for inputs, labels in testloader:\n",
    "            inputs = inputs.to(device)\n",
    "            labels = labels.to(device)\n",
    "            \n",
    "            outputs = model(inputs)\n",
    "            _, predicted = torch.max(outputs, 1)\n",
    "            \n",
    "            all_predictions.extend(predicted.cpu().numpy())\n",
    "            all_labels.extend(labels.cpu().numpy())\n",
    "    \n",
    "    all_predictions = np.array(all_predictions)\n",
    "    all_labels = np.array(all_labels)\n",
    "    \n",
    " \n",
    "    correct = (all_predictions == all_labels).sum()\n",
    "    total = len(all_labels)\n",
    "    accuracy = 100 * correct / total\n",
    "    \n",
    "\n",
    "    precision, recall, f1, support = precision_recall_fscore_support(\n",
    "        all_labels, \n",
    "        all_predictions, \n",
    "        average=None, \n",
    "        zero_division=0 \n",
    "    )\n",
    "    \n",
    "\n",
    "    conf_matrix = confusion_matrix(all_labels, all_predictions)\n",
    "    \n",
    "\n",
    "    classes = ('plane', 'car', 'bird', 'cat', 'deer',\n",
    "               'dog', 'frog', 'horse', 'ship', 'truck')\n",
    "    \n",
    "\n",
    "    print(f\"Overall Accuracy: {accuracy:.2f}%\")\n",
    "    print(\"\\nPer-class metrics:\")\n",
    "    print(f\"{'Class':<10} {'Precision':>10} {'Recall':>10} {'F1':>10} {'Support':>10}\")\n",
    "    print(\"-\" * 55)\n",
    "    \n",
    "    for i in range(num_classes):\n",
    "        print(f\"{classes[i]:<10} {precision[i]:>10.4f} {recall[i]:>10.4f} {f1[i]:>10.4f} {support[i]:>10}\")\n",
    "    \n",
    "    return {\n",
    "        'accuracy': accuracy,\n",
    "        'precision': precision,\n",
    "        'recall': recall,\n",
    "        'f1': f1,\n",
    "        'support': support,\n",
    "        'confusion_matrix': conf_matrix\n",
    "    }"
   ]
  },
  {
   "cell_type": "code",
   "execution_count": 11,
   "metadata": {
    "tags": []
   },
   "outputs": [
    {
     "name": "stdout",
     "output_type": "stream",
     "text": [
      "Overall Accuracy: 75.20%\n",
      "\n",
      "Per-class metrics:\n",
      "Class       Precision     Recall         F1    Support\n",
      "-------------------------------------------------------\n",
      "plane          0.7572     0.8420     0.7973       1000\n",
      "car            0.9227     0.8120     0.8638       1000\n",
      "bird           0.8034     0.6130     0.6954       1000\n",
      "cat            0.4891     0.6960     0.5745       1000\n",
      "deer           0.8370     0.6110     0.7064       1000\n",
      "dog            0.6364     0.7070     0.6698       1000\n",
      "frog           0.8919     0.7180     0.7956       1000\n",
      "horse          0.8323     0.8090     0.8205       1000\n",
      "ship           0.9093     0.7820     0.8409       1000\n",
      "truck          0.6920     0.9300     0.7935       1000\n"
     ]
    },
    {
     "data": {
      "text/plain": [
       "{'accuracy': 75.2,\n",
       " 'precision': array([0.75719424, 0.92272727, 0.8034076 , 0.48910752, 0.8369863 ,\n",
       "        0.63636364, 0.89192547, 0.83230453, 0.90930233, 0.69196429]),\n",
       " 'recall': array([0.842, 0.812, 0.613, 0.696, 0.611, 0.707, 0.718, 0.809, 0.782,\n",
       "        0.93 ]),\n",
       " 'f1': array([0.79734848, 0.86382979, 0.69540556, 0.57449443, 0.70635838,\n",
       "        0.66982473, 0.79556787, 0.82048682, 0.84086022, 0.79351536]),\n",
       " 'support': array([1000, 1000, 1000, 1000, 1000, 1000, 1000, 1000, 1000, 1000]),\n",
       " 'confusion_matrix': array([[842,   9,  14,  23,   4,  11,   5,   8,  23,  61],\n",
       "        [ 12, 812,   2,  10,   2,   4,   1,   0,  11, 146],\n",
       "        [ 76,   4, 613, 108,  42,  68,  30,  22,   9,  28],\n",
       "        [ 23,   1,  28, 696,  23, 146,  18,  23,   9,  33],\n",
       "        [ 28,   5,  39, 134, 611,  69,  26,  71,   6,  11],\n",
       "        [  7,   1,  17, 207,   7, 707,   2,  28,   1,  23],\n",
       "        [  9,   5,  32, 141,  23,  40, 718,   5,   9,  18],\n",
       "        [ 20,   4,  10,  63,  16,  52,   0, 809,   3,  23],\n",
       "        [ 81,  12,   6,  30,   2,  11,   4,   1, 782,  71],\n",
       "        [ 14,  27,   2,  11,   0,   3,   1,   5,   7, 930]])}"
      ]
     },
     "execution_count": 11,
     "metadata": {},
     "output_type": "execute_result"
    }
   ],
   "source": [
    "evaluate_model(model, testloader)"
   ]
  }
 ],
 "metadata": {
  "kernelspec": {
   "display_name": ".conda-default:Python",
   "language": "python",
   "name": "conda-env-.conda-default-py"
  },
  "language_info": {
   "codemirror_mode": {
    "name": "ipython",
    "version": 3
   },
   "file_extension": ".py",
   "mimetype": "text/x-python",
   "name": "python",
   "nbconvert_exporter": "python",
   "pygments_lexer": "ipython3",
   "version": "3.9.13"
  }
 },
 "nbformat": 4,
 "nbformat_minor": 4
}
